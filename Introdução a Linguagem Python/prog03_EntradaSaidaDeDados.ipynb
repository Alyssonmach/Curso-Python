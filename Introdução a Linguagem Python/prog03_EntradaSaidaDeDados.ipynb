{
 "cells": [
  {
   "cell_type": "markdown",
   "metadata": {},
   "source": [
    "# Entrada e Saída de Dados"
   ]
  },
  {
   "cell_type": "markdown",
   "metadata": {},
   "source": [
    "Nesse arquivo, será discutido como é possível fazer entradas e saídas de dados no Python utilizando **input** e **print**. Além disso, vamos estudar outras características da linguagem."
   ]
  },
  {
   "cell_type": "markdown",
   "metadata": {},
   "source": [
    "### String"
   ]
  },
  {
   "cell_type": "markdown",
   "metadata": {},
   "source": [
    "> Todo dado recebido no input é uma string, caso nada seja especificado."
   ]
  },
  {
   "cell_type": "markdown",
   "metadata": {},
   "source": [
    "Em python, uma string é representada por:  \n",
    "\n",
    "|**Formas de Representar uma String**|\n",
    "|:----------------------------------:|\n",
    "|Aspas Simples                       |\n",
    "|Aspas Duplas                        |\n",
    "|Aspas Simples Triplas               |\n",
    "|Aspas Duplas Triplas                |\n"
   ]
  },
  {
   "cell_type": "markdown",
   "metadata": {},
   "source": [
    "##### Exemplos "
   ]
  },
  {
   "cell_type": "code",
   "execution_count": 9,
   "metadata": {},
   "outputs": [
    {
     "data": {
      "text/plain": [
       "'Olá Mundo'"
      ]
     },
     "execution_count": 9,
     "metadata": {},
     "output_type": "execute_result"
    }
   ],
   "source": [
    "# string com Aspas Simples\n",
    "'Olá Mundo'"
   ]
  },
  {
   "cell_type": "code",
   "execution_count": 10,
   "metadata": {},
   "outputs": [
    {
     "data": {
      "text/plain": [
       "'Olá Mundo'"
      ]
     },
     "execution_count": 10,
     "metadata": {},
     "output_type": "execute_result"
    }
   ],
   "source": [
    "# string com Aspas Duplas\n",
    "\"Olá Mundo\""
   ]
  },
  {
   "cell_type": "code",
   "execution_count": 11,
   "metadata": {},
   "outputs": [
    {
     "data": {
      "text/plain": [
       "'Olá Mundo'"
      ]
     },
     "execution_count": 11,
     "metadata": {},
     "output_type": "execute_result"
    }
   ],
   "source": [
    "# string com Aspas Simples Triplas\n",
    "'''Olá Mundo'''"
   ]
  },
  {
   "cell_type": "code",
   "execution_count": 12,
   "metadata": {},
   "outputs": [
    {
     "data": {
      "text/plain": [
       "'Olá Mundo'"
      ]
     },
     "execution_count": 12,
     "metadata": {},
     "output_type": "execute_result"
    }
   ],
   "source": [
    "# string com Aspas Duplas Triplas\n",
    "\"\"\"Olá Mundo\"\"\""
   ]
  },
  {
   "cell_type": "markdown",
   "metadata": {},
   "source": [
    "### Comentários"
   ]
  },
  {
   "cell_type": "code",
   "execution_count": 8,
   "metadata": {},
   "outputs": [],
   "source": [
    "# Comentários são demarcados por cerquilhas"
   ]
  },
  {
   "cell_type": "markdown",
   "metadata": {},
   "source": [
    "### Saída de Dados"
   ]
  },
  {
   "cell_type": "markdown",
   "metadata": {},
   "source": [
    "- Usa-se **print** para demarcar qualquer saída de dados."
   ]
  },
  {
   "cell_type": "code",
   "execution_count": 13,
   "metadata": {},
   "outputs": [
    {
     "name": "stdout",
     "output_type": "stream",
     "text": [
      "Olá Mundo\n"
     ]
    }
   ],
   "source": [
    "# saída de dados com \"print\"\n",
    "print(\"Olá Mundo\")"
   ]
  },
  {
   "cell_type": "markdown",
   "metadata": {},
   "source": [
    "### Entrada de Dados"
   ]
  },
  {
   "cell_type": "markdown",
   "metadata": {},
   "source": [
    "- Usa-se **input** para demarcar qualquer entrada de dados;"
   ]
  },
  {
   "cell_type": "markdown",
   "metadata": {},
   "source": [
    "##### Exemplos"
   ]
  },
  {
   "cell_type": "code",
   "execution_count": 4,
   "metadata": {},
   "outputs": [
    {
     "name": "stdout",
     "output_type": "stream",
     "text": [
      "Qual o seu nome?\n",
      "Alysson Machado\n",
      "Olá Alysson Machado, seja bem-vindo a linguagem de programação Python\n"
     ]
    }
   ],
   "source": [
    "print(\"Qual o seu nome?\")\n",
    "nome = input()\n",
    "print(\"Olá {}, seja bem-vindo a linguagem de programação Python\".format(nome))"
   ]
  },
  {
   "cell_type": "code",
   "execution_count": 5,
   "metadata": {},
   "outputs": [
    {
     "name": "stdout",
     "output_type": "stream",
     "text": [
      "Qual o seu nome?\n",
      "Informe o sue nome: Alysson Machado\n",
      "Olá Alysson Machado, seja bem-vindo a linguagem de programação Python\n"
     ]
    }
   ],
   "source": [
    "print(\"Qual o seu nome?\")\n",
    "nome = input(\"Informe o sue nome: \")\n",
    "print(\"Olá {}, seja bem-vindo a linguagem de programação Python\".format(nome))"
   ]
  },
  {
   "cell_type": "code",
   "execution_count": 3,
   "metadata": {},
   "outputs": [
    {
     "name": "stdout",
     "output_type": "stream",
     "text": [
      "Qual o seu nome?\n",
      "Informe seu nome: Alysson Machado\n",
      "Olá Alysson Machado, seja bem-vindo a linguagem de programação Python\n"
     ]
    }
   ],
   "source": [
    "print(\"Qual o seu nome?\")\n",
    "nome = str(input(\"Informe seu nome: \"))\n",
    "print(\"Olá {}, seja bem-vindo a linguagem de programação Python\".format(nome))"
   ]
  },
  {
   "cell_type": "code",
   "execution_count": 7,
   "metadata": {},
   "outputs": [
    {
     "name": "stdout",
     "output_type": "stream",
     "text": [
      "Qual o seu nome?\n",
      "Informe seu nome: Alysson Machado\n",
      "Olá Alysson Machado, seja bem-vindo a linguagem de programação Python\n"
     ]
    }
   ],
   "source": [
    "print(\"Qual o seu nome?\")\n",
    "nome = str(input(\"Informe seu nome: \"))\n",
    "print(f\"Olá {nome}, seja bem-vindo a linguagem de programação Python\")"
   ]
  },
  {
   "cell_type": "markdown",
   "metadata": {},
   "source": [
    "### Alguma dúvida? Entre em contato comigo:"
   ]
  },
  {
   "cell_type": "markdown",
   "metadata": {},
   "source": [
    "- [Me envie um e-mail](mailto:alyssonmachado388@gmail.com);"
   ]
  }
 ],
 "metadata": {
  "kernelspec": {
   "display_name": "Python 3",
   "language": "python",
   "name": "python3"
  },
  "language_info": {
   "codemirror_mode": {
    "name": "ipython",
    "version": 3
   },
   "file_extension": ".py",
   "mimetype": "text/x-python",
   "name": "python",
   "nbconvert_exporter": "python",
   "pygments_lexer": "ipython3",
   "version": "3.7.4"
  }
 },
 "nbformat": 4,
 "nbformat_minor": 2
}
