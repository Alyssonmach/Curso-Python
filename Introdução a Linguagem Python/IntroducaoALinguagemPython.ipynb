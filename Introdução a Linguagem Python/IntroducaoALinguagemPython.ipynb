{
 "cells": [
  {
   "cell_type": "markdown",
   "metadata": {},
   "source": [
    "# Introdução a Linguagem Python"
   ]
  },
  {
   "cell_type": "markdown",
   "metadata": {},
   "source": [
    "Vamos começar o nosso estudo em **Python** por uma definição que resume os ideais dessa linguagem de progamação:"
   ]
  },
  {
   "cell_type": "markdown",
   "metadata": {},
   "source": [
    "> \"**Python é uma linguagem de programação de alto nível, interpretada, de script, imperativa, orientada a objetos, funcional, de tipagem dinâmica e forte. Foi lançada por Guido van Rossum em 1991. Atualmente possui um modelo de desenvolvimento comunitário, aberto e gerenciado pela organização sem fins lucrativos Python Software Foundation**.\" (Wikipédia)"
   ]
  },
  {
   "cell_type": "markdown",
   "metadata": {},
   "source": [
    "#### Dissecando a Definição"
   ]
  },
  {
   "cell_type": "markdown",
   "metadata": {},
   "source": [
    "Acima foi copiado um pequeno trecho da **Wikipédia** que fala sobre a **linguagem de progamação Python**. Nele, podemos aprender diversas caracteristicas da linguagem em sí, tais como:"
   ]
  },
  {
   "cell_type": "markdown",
   "metadata": {},
   "source": [
    "|**Características da Linguagem de Progamação Python**|\n",
    "|:---------------|\n",
    "|**Linguagem de Progamação de Alto Nível:** Python é uma linguagem que sua escrita é bem próxima da linguagem humana usando como idioma principal o inglês, dado que é a linguagem nativa de seus país onde a mesma foi originada. Dessa forma, podemos nos comunicar com a máquina através de um forte e intuitivo interpretador.|\n",
    "|**Linguagem Interpretada:** o código fonte nessa linguagem é executado por um programa de computador chamado interpretador, que em seguida é executado pelo sistema operacional ou processador. Método esse que difere das linguagens que são compiladas para a linguagem de máquina, tais como a linguagem de progamação C e suas derivadas.|\n",
    "|**Linguagem de Script:** é básicamente o ato de desenvolver um algoritmo para automatizar a execução de tarefas que poderiam alternativamente ser executadas uma por vez por um operador humano.|\n",
    "|**Linguagem Imperativa:** Trata do ato de usar ações para dar ordens, ou seja, através de comandos podemos dar ordens para serem executadas determinadas ações pelo progama. Desse modo, surgem os laços de repetição, estruturas condicionais, atribuição de valor à variáveis e controle de estado para implementar melhor essa ideia de imperatividade.|\n",
    "|**Linguagem Orientada a Objetos:** Trata da ideia de se ter uma linguagem de progamações voltada ao conceito de \"objetos\", usando para isso atributos (dados na forma de campo) e métodos (procedimentos de execução).|\n",
    "|**Linguagem Funcional:** Trata a ideia de possuir uma linguagem com avaliação de funções para executar determinadas ações. Especificamente o Python, possui inúmeras bibliotecas repletas de funções para serem importadas e usadas, dando ênfase a inúmeros campos de estudo na qual a progamação se aplica.|\n",
    "|**Linguagem de Tipagem Dinâmica:** sendo uma caracteristica positiva para o Python, esse tipo de tipagem permite o uso de variáveis que não exigem declarações de tipos de dados, pois são capazes de escolher que tipo utilizar dinamicamente para cada variável, podendo alterá-lo durante a compilação ou a execução do programa.|\n",
    "|**Linguagem forte:** Python é uma linguagem de progamação multiplataforma e atualmente está presente em diversos sistemas operacionais, seja eles embarcados ou não. Temos a Microsoft usando nos consoles Xbox, de mesmo modo a Sony nos consoles Playstation, a empresa Apple a utiliza nos seus sistema operacionais IOS ou macOS, está presente em inúmeras SmartTvs, presente em operações para realizar automações em residências e indústrias e diversas outras plataformas.|\n",
    "|**Além disso:** o recurso de ponto e vírgula para paradas de comandos foi substituido pelo recuo utilizado no progama, juntamente com os dois pontos (:) usando para delimitar subcomandos de operações maiores.|"
   ]
  },
  {
   "cell_type": "markdown",
   "metadata": {},
   "source": [
    "No Python há um **easter egg** que resume a sua metodologia em formato de poema. Podemos usar o comando **import this** para ler esse poema, esse que resume o pensamento do criador do Python sobre a linguagem."
   ]
  },
  {
   "cell_type": "code",
   "execution_count": 1,
   "metadata": {},
   "outputs": [
    {
     "name": "stdout",
     "output_type": "stream",
     "text": [
      "The Zen of Python, by Tim Peters\n",
      "\n",
      "Beautiful is better than ugly.\n",
      "Explicit is better than implicit.\n",
      "Simple is better than complex.\n",
      "Complex is better than complicated.\n",
      "Flat is better than nested.\n",
      "Sparse is better than dense.\n",
      "Readability counts.\n",
      "Special cases aren't special enough to break the rules.\n",
      "Although practicality beats purity.\n",
      "Errors should never pass silently.\n",
      "Unless explicitly silenced.\n",
      "In the face of ambiguity, refuse the temptation to guess.\n",
      "There should be one-- and preferably only one --obvious way to do it.\n",
      "Although that way may not be obvious at first unless you're Dutch.\n",
      "Now is better than never.\n",
      "Although never is often better than *right* now.\n",
      "If the implementation is hard to explain, it's a bad idea.\n",
      "If the implementation is easy to explain, it may be a good idea.\n",
      "Namespaces are one honking great idea -- let's do more of those!\n"
     ]
    }
   ],
   "source": [
    "# observando as características da linguagem python através do \"easter egg\" do Python \"import this\"\n",
    "import this"
   ]
  },
  {
   "cell_type": "markdown",
   "metadata": {},
   "source": [
    "Na tradução, temos:"
   ]
  },
  {
   "cell_type": "markdown",
   "metadata": {},
   "source": [
    "### The Zen of Python\n",
    "*Bonito é melhor que feio.  \n",
    "Explícito é melhor que implícito.  \n",
    "Simples é melhor que complexo.  \n",
    "Complexo é melhor que complicado.  \n",
    "Plano é melhor que aninhado.  \n",
    "Esparso é melhor que denso.  \n",
    "Legibilidade conta.  \n",
    "Casos especiais não são especiais o bastante para se quebrar as regras.  \n",
    "Embora a simplicidade supere o purismo.  \n",
    "Erros nunca deveriam passar silenciosamente.  \n",
    "A menos que explicitamente silenciados.  \n",
    "Ao encarar a ambiguidade, recuse a tentação de adivinhar.  \n",
    "Deveria haver uma – e preferencialmente apenas uma – maneira óbvia de se fazer isto.  \n",
    "Embora aquela maneira possa não ser óbvia à primeira vista se você não for holandês.  \n",
    "Agora é melhor que nunca.  \n",
    "Embora nunca, seja muitas vezes melhor que pra já.  \n",
    "Se a implementação é difícil de explicar, é uma má idéia.  \n",
    "Se a implementação é fácil de explicar, pode ser uma boa idéia.  \n",
    "Namespaces são uma idéia estupenda – vamos fazer mais deles!*"
   ]
  },
  {
   "cell_type": "markdown",
   "metadata": {},
   "source": [
    "Ainda nessa pasta de arquivos introdutórios sobre a linguagem de programação Python, você pode encontrar um documento PDF que fala sobre as **Propostas de Aprimoramento da Linguagem de Programação Python**. Nesse documento, há uma instrução para os desenvolvedores de Python se orientarem quando sentirem necessidade de aprimorar a linguagem. Uma pergunta que pode ficar no ar é quem seria esses desenvolvedores? A reposta é qualquer pessoa que queira colaborar. Python é um projeto feito em **Open Source**, esse que cresce a cada dia com ajuda de inúmeros programadores que sugerem e fazem constantes alterações a essa linguagem. Não é a toa que o Python é uma linguagem de programação que vem crescendo cada dia mais na atualidade."
   ]
  }
 ],
 "metadata": {
  "kernelspec": {
   "display_name": "Python 3",
   "language": "python",
   "name": "python3"
  },
  "language_info": {
   "codemirror_mode": {
    "name": "ipython",
    "version": 3
   },
   "file_extension": ".py",
   "mimetype": "text/x-python",
   "name": "python",
   "nbconvert_exporter": "python",
   "pygments_lexer": "ipython3",
   "version": "3.7.4"
  }
 },
 "nbformat": 4,
 "nbformat_minor": 2
}
