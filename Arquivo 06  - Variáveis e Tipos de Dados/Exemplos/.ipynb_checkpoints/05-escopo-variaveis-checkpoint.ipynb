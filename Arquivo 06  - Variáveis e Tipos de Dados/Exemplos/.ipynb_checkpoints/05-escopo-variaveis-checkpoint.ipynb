{
 "cells": [
  {
   "cell_type": "markdown",
   "metadata": {},
   "source": [
    "# Escopo de Variáveis"
   ]
  },
  {
   "cell_type": "markdown",
   "metadata": {},
   "source": [
    "- **Dois casos de escopos:**  \n",
    "> **Variáveis Globais**: são reconhecidas e compreende todo o programa;  \n",
    "> **Variáveis Locais**: são reconhecidas apenas nos blocos onde foram declaradas, ou seja, seu escopo está limitado ao bloco onde foi declarado;  "
   ]
  },
  {
   "cell_type": "markdown",
   "metadata": {},
   "source": [
    "Python é uma linguagem de tipagem dinâmica. Isso significa que ao declararmos uma variável, nós não colocamos o tipo de dado dela. Este tipo é inferido ao atribuirmos o valor da mesma."
   ]
  }
 ],
 "metadata": {
  "kernelspec": {
   "display_name": "Python 3",
   "language": "python",
   "name": "python3"
  },
  "language_info": {
   "codemirror_mode": {
    "name": "ipython",
    "version": 3
   },
   "file_extension": ".py",
   "mimetype": "text/x-python",
   "name": "python",
   "nbconvert_exporter": "python",
   "pygments_lexer": "ipython3",
   "version": "3.7.4"
  }
 },
 "nbformat": 4,
 "nbformat_minor": 4
}
