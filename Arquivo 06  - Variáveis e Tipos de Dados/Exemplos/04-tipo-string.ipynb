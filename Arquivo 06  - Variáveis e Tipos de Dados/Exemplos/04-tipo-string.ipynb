{
 "cells": [
  {
   "cell_type": "markdown",
   "metadata": {},
   "source": [
    "# Tipo de Dado String"
   ]
  },
  {
   "cell_type": "markdown",
   "metadata": {},
   "source": [
    "> Em Python, um dado é considerado do tipo string quando estiver envolto por aspas."
   ]
  },
  {
   "cell_type": "code",
   "execution_count": 1,
   "metadata": {},
   "outputs": [
    {
     "name": "stdout",
     "output_type": "stream",
     "text": [
      "Alysson Machado\n"
     ]
    }
   ],
   "source": [
    "# imprimindo uma string na saída de dados\n",
    "print('Alysson Machado')"
   ]
  },
  {
   "cell_type": "code",
   "execution_count": 2,
   "metadata": {},
   "outputs": [
    {
     "data": {
      "text/plain": [
       "'Alysson Machado'"
      ]
     },
     "execution_count": 2,
     "metadata": {},
     "output_type": "execute_result"
    }
   ],
   "source": [
    "# concatenação de strings\n",
    "'Alysson ' + 'Machado'"
   ]
  },
  {
   "cell_type": "code",
   "execution_count": 3,
   "metadata": {},
   "outputs": [],
   "source": [
    "# atribuindo uma string a uma variável\n",
    "variavel = 'Alysson'"
   ]
  },
  {
   "cell_type": "code",
   "execution_count": 4,
   "metadata": {},
   "outputs": [
    {
     "data": {
      "text/plain": [
       "str"
      ]
     },
     "execution_count": 4,
     "metadata": {},
     "output_type": "execute_result"
    }
   ],
   "source": [
    "# verificando o tipo de variável\n",
    "type(variavel)"
   ]
  },
  {
   "cell_type": "code",
   "execution_count": 6,
   "metadata": {},
   "outputs": [
    {
     "name": "stdout",
     "output_type": "stream",
     "text": [
      "alysson marcos josé francisco cleudis arimateia afonsinho\n",
      "['alysson', 'marcos', 'josé', 'francisco', 'cleudis', 'arimateia', 'afonsinho']\n"
     ]
    }
   ],
   "source": [
    "# criando uma lista de strings\n",
    "\n",
    "# atribuindo uma string com espaços em branco a uma variável\n",
    "lista_string = 'alysson marcos josé francisco cleudis arimateia afonsinho'\n",
    "\n",
    "# observando na saída de dados a string digitada\n",
    "print(lista_string)\n",
    "\n",
    "# separando cada elemento da string após os caractéres em branco\n",
    "lista_string = lista_string.split()\n",
    "\n",
    "# observando na saída de dados a lista criada\n",
    "print(lista_string)"
   ]
  },
  {
   "cell_type": "code",
   "execution_count": 7,
   "metadata": {},
   "outputs": [
    {
     "data": {
      "text/plain": [
       "'arimateia'"
      ]
     },
     "execution_count": 7,
     "metadata": {},
     "output_type": "execute_result"
    }
   ],
   "source": [
    "# escolhendo elemetos de cada string\n",
    "lista_string[5]"
   ]
  },
  {
   "cell_type": "code",
   "execution_count": 8,
   "metadata": {},
   "outputs": [
    {
     "name": "stdout",
     "output_type": "stream",
     "text": [
      "['alysson', 'marcos']\n"
     ]
    }
   ],
   "source": [
    "# fatiando a string em partes \n",
    "print(lista_string[0:2])\n",
    "# imprime os elementos de 0 até 1 do vetor, lembrando que o último valor especificado no fatiamento não será\n",
    "# apresentado"
   ]
  },
  {
   "cell_type": "code",
   "execution_count": 9,
   "metadata": {},
   "outputs": [
    {
     "name": "stdout",
     "output_type": "stream",
     "text": [
      "a\n",
      "aly\n"
     ]
    }
   ],
   "source": [
    "# atribundo uma string a uma variável\n",
    "string = 'alysson'\n",
    "\n",
    "# imprimindo somente o primeiro caractere da string\n",
    "print(string[0])\n",
    "\n",
    "# imprimindo a string fatiada\n",
    "print(string[0:3])"
   ]
  },
  {
   "cell_type": "code",
   "execution_count": 11,
   "metadata": {},
   "outputs": [
    {
     "name": "stdout",
     "output_type": "stream",
     "text": [
      "nossyla\n"
     ]
    }
   ],
   "source": [
    "# imprimindo uma determinada string com os caracteres ao contrário na saída de dados\n",
    "print(string[::-1])"
   ]
  },
  {
   "cell_type": "code",
   "execution_count": 13,
   "metadata": {},
   "outputs": [
    {
     "name": "stdout",
     "output_type": "stream",
     "text": [
      "alysson\n"
     ]
    }
   ],
   "source": [
    "# atribuindo uma string a uma varíavel\n",
    "string = 'vlysson'\n",
    "\n",
    "# substituindo todo caractere 'v' por 'a' na string\n",
    "string = string.replace('v', 'a')\n",
    "\n",
    "# imprimindo na saída de dados a string\n",
    "print(string)"
   ]
  }
 ],
 "metadata": {
  "kernelspec": {
   "display_name": "Python 3",
   "language": "python",
   "name": "python3"
  },
  "language_info": {
   "codemirror_mode": {
    "name": "ipython",
    "version": 3
   },
   "file_extension": ".py",
   "mimetype": "text/x-python",
   "name": "python",
   "nbconvert_exporter": "python",
   "pygments_lexer": "ipython3",
   "version": "3.7.4"
  }
 },
 "nbformat": 4,
 "nbformat_minor": 4
}
