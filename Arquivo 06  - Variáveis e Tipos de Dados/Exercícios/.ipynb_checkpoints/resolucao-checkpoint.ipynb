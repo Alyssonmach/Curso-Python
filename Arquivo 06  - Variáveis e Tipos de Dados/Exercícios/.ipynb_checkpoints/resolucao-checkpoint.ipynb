{
 "cells": [
  {
   "cell_type": "markdown",
   "metadata": {},
   "source": [
    "# Resolução dos Exercícios\n",
    "#### Varíáveis e Tipos de Dados"
   ]
  },
  {
   "cell_type": "markdown",
   "metadata": {},
   "source": [
    "- **Exercício 01**:"
   ]
  },
  {
   "cell_type": "code",
   "execution_count": 2,
   "metadata": {},
   "outputs": [
    {
     "name": "stdin",
     "output_type": "stream",
     "text": [
      "Informe um número inteiro: 19\n"
     ]
    },
    {
     "name": "stdout",
     "output_type": "stream",
     "text": [
      "O número digitado foi: 19\n"
     ]
    }
   ],
   "source": [
    "# programa que lê um número inteiro e imprime na tela\n",
    "\n",
    "num = int(input('Informe um número inteiro:'))\n",
    "print('O número digitado foi: {}'.format(num))"
   ]
  },
  {
   "cell_type": "markdown",
   "metadata": {},
   "source": [
    "- **Exercício 02**:"
   ]
  },
  {
   "cell_type": "code",
   "execution_count": 3,
   "metadata": {},
   "outputs": [
    {
     "name": "stdin",
     "output_type": "stream",
     "text": [
      "Informe um número real: 4.5\n"
     ]
    },
    {
     "name": "stdout",
     "output_type": "stream",
     "text": [
      "O número digitado foi: 4.5\n"
     ]
    }
   ],
   "source": [
    "# programa que lê um número real e imprime na tela\n",
    "\n",
    "num = float(input('Informe um número real:'))\n",
    "print('O número digitado foi: {}'.format(num))"
   ]
  },
  {
   "cell_type": "markdown",
   "metadata": {},
   "source": [
    "- **Exercício 03**:"
   ]
  },
  {
   "cell_type": "code",
   "execution_count": 9,
   "metadata": {},
   "outputs": [
    {
     "name": "stdin",
     "output_type": "stream",
     "text": [
      "Insira um número inteiro: 1\n",
      "Insira outro número inteiro: 3\n",
      "Insira mais um número inteiro: 7\n"
     ]
    },
    {
     "name": "stdout",
     "output_type": "stream",
     "text": [
      "\n",
      "\n",
      "A soma dos números é 11\n"
     ]
    }
   ],
   "source": [
    "# soma de três números inteiros\n",
    "\n",
    "num1 = int(input('Insira um número inteiro:'))\n",
    "num2 = int(input('Insira outro número inteiro:'))\n",
    "num3 = int(input('Insira mais um número inteiro:'))\n",
    "\n",
    "soma = num1 + num2 + num3\n",
    "\n",
    "print('\\n')\n",
    "\n",
    "print('A soma dos números é {}'.format(soma))"
   ]
  },
  {
   "cell_type": "markdown",
   "metadata": {},
   "source": [
    "- **Exercício 04**:"
   ]
  },
  {
   "cell_type": "code",
   "execution_count": 15,
   "metadata": {},
   "outputs": [
    {
     "name": "stdin",
     "output_type": "stream",
     "text": [
      "Insira um número real: 4.3\n"
     ]
    },
    {
     "name": "stdout",
     "output_type": "stream",
     "text": [
      "O número elevado ao quadrado é: 18.49\n"
     ]
    }
   ],
   "source": [
    "# quadrado de um número real\n",
    "\n",
    "num = float(input('Insira um número real:'))\n",
    "\n",
    "print('O número elevado ao quadrado é: {:.2f}'.format(num ** 2))"
   ]
  },
  {
   "cell_type": "markdown",
   "metadata": {},
   "source": [
    "- **Exercício 05**:"
   ]
  },
  {
   "cell_type": "code",
   "execution_count": 16,
   "metadata": {},
   "outputs": [
    {
     "name": "stdin",
     "output_type": "stream",
     "text": [
      "Insira um número real:  55.7\n"
     ]
    },
    {
     "name": "stdout",
     "output_type": "stream",
     "text": [
      "A quinta parte do número é: 11.14\n"
     ]
    }
   ],
   "source": [
    "# quinta parte de um número real\n",
    "\n",
    "num = float(input('Insira um número real: '))\n",
    "print('A quinta parte do número é: {}'.format(num / 5))"
   ]
  },
  {
   "cell_type": "markdown",
   "metadata": {},
   "source": [
    "- **Exercício 06**:"
   ]
  },
  {
   "cell_type": "code",
   "execution_count": 18,
   "metadata": {},
   "outputs": [
    {
     "name": "stdin",
     "output_type": "stream",
     "text": [
      "Informe uma temperatura em graus celsius:  45.0\n"
     ]
    },
    {
     "name": "stdout",
     "output_type": "stream",
     "text": [
      "A temperatura em Fahrenheit é: 113.0°F\n"
     ]
    }
   ],
   "source": [
    "# conversor de graus celsius para graus fahrenheit\n",
    "\n",
    "c = float(input('Informe uma temperatura em graus celsius: '))\n",
    "\n",
    "f = c * (9.0/5.0) + 32.0\n",
    "\n",
    "print('A temperatura em Fahrenheit é: {}°F'.format(f))"
   ]
  },
  {
   "cell_type": "markdown",
   "metadata": {},
   "source": [
    "- **Exercício 07**:"
   ]
  },
  {
   "cell_type": "code",
   "execution_count": 19,
   "metadata": {},
   "outputs": [
    {
     "name": "stdin",
     "output_type": "stream",
     "text": [
      "Informe uma temperatura em Fahrenheit:  113.0\n"
     ]
    },
    {
     "name": "stdout",
     "output_type": "stream",
     "text": [
      "A temperatura em graus Celsius é: 45.0°C\n"
     ]
    }
   ],
   "source": [
    "# conversor de graus fahrenheit para graus celsius\n",
    "\n",
    "f = float(input('Informe uma temperatura em Fahrenheit: '))\n",
    "\n",
    "c = 5.0 * (f - 32.0)/9.0\n",
    "\n",
    "print('A temperatura em graus Celsius é: {}°C'.format(c))"
   ]
  },
  {
   "cell_type": "markdown",
   "metadata": {},
   "source": [
    "- **Exercício 08**:"
   ]
  },
  {
   "cell_type": "code",
   "execution_count": 20,
   "metadata": {},
   "outputs": [
    {
     "name": "stdin",
     "output_type": "stream",
     "text": [
      "Informe uma temperatura em Kelvin:  0\n"
     ]
    },
    {
     "name": "stdout",
     "output_type": "stream",
     "text": [
      "A temperatura em  Celsius é: -273.15°C\n"
     ]
    }
   ],
   "source": [
    "# conversor de kelvin para graus celsius\n",
    "\n",
    "k = float(input('Informe uma temperatura em Kelvin: '))\n",
    "\n",
    "c = k - 273.15\n",
    "\n",
    "print('A temperatura em  graus Celsius é: {}°C'.format(c))"
   ]
  },
  {
   "cell_type": "markdown",
   "metadata": {},
   "source": [
    "- **Exercício 09**:"
   ]
  },
  {
   "cell_type": "code",
   "execution_count": 21,
   "metadata": {},
   "outputs": [
    {
     "name": "stdin",
     "output_type": "stream",
     "text": [
      "Informe uma temperatura em graus celsius:  -273.15\n"
     ]
    },
    {
     "name": "stdout",
     "output_type": "stream",
     "text": [
      "A temperatura em  Kelvin é: 0.0K\n"
     ]
    }
   ],
   "source": [
    "# conversor de graus celsius para kelvin\n",
    "\n",
    "c = float(input('Informe uma temperatura em graus celsius: '))\n",
    "\n",
    "k = c + 273.15\n",
    "\n",
    "print('A temperatura em  Kelvin é: {}K'.format(k))"
   ]
  },
  {
   "cell_type": "markdown",
   "metadata": {},
   "source": [
    "- **Exercício 10**:"
   ]
  },
  {
   "cell_type": "code",
   "execution_count": 22,
   "metadata": {},
   "outputs": [
    {
     "name": "stdin",
     "output_type": "stream",
     "text": [
      "Informe uma velocidade em km/h:  100.0\n"
     ]
    },
    {
     "name": "stdout",
     "output_type": "stream",
     "text": [
      "A velocidade em m/s é 27.77777777777778 m/s\n"
     ]
    }
   ],
   "source": [
    "# conversor de km/h para m/s\n",
    "\n",
    "k = float(input('Informe uma velocidade em km/h: '))\n",
    "\n",
    "m = k / 3.6\n",
    "\n",
    "print('A velocidade em m/s é {} m/s'.format(m))"
   ]
  },
  {
   "cell_type": "markdown",
   "metadata": {},
   "source": [
    "- **Exercício 11**:"
   ]
  },
  {
   "cell_type": "code",
   "execution_count": 24,
   "metadata": {},
   "outputs": [
    {
     "name": "stdin",
     "output_type": "stream",
     "text": [
      "Informe uma velocidade em m/s:  27.77777777777777777777777777777777777777777\n"
     ]
    },
    {
     "name": "stdout",
     "output_type": "stream",
     "text": [
      "A velocidade em km/h é 100.0 km/h\n"
     ]
    }
   ],
   "source": [
    "# conversor de m/s para km/h\n",
    "\n",
    "m = float(input('Informe uma velocidade em m/s: '))\n",
    "\n",
    "k = m * 3.6\n",
    "\n",
    "print('A velocidade em km/h é {} km/h'.format(k))"
   ]
  }
 ],
 "metadata": {
  "kernelspec": {
   "display_name": "Python 3",
   "language": "python",
   "name": "python3"
  },
  "language_info": {
   "codemirror_mode": {
    "name": "ipython",
    "version": 3
   },
   "file_extension": ".py",
   "mimetype": "text/x-python",
   "name": "python",
   "nbconvert_exporter": "python",
   "pygments_lexer": "ipython3",
   "version": "3.7.4"
  }
 },
 "nbformat": 4,
 "nbformat_minor": 4
}
