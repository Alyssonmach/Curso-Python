{
 "cells": [
  {
   "cell_type": "markdown",
   "metadata": {},
   "source": [
    "# Resolução dos Exercícios\n",
    "#### Varíáveis e Tipos de Dados"
   ]
  },
  {
   "cell_type": "markdown",
   "metadata": {},
   "source": [
    "- **Exercício 01**:"
   ]
  },
  {
   "cell_type": "code",
   "execution_count": 2,
   "metadata": {},
   "outputs": [
    {
     "name": "stdin",
     "output_type": "stream",
     "text": [
      "Informe um número inteiro: 19\n"
     ]
    },
    {
     "name": "stdout",
     "output_type": "stream",
     "text": [
      "O número digitado foi: 19\n"
     ]
    }
   ],
   "source": [
    "# programa que lê um número inteiro e imprime na tela\n",
    "\n",
    "num = int(input('Informe um número inteiro:'))\n",
    "print('O número digitado foi: {}'.format(num))"
   ]
  },
  {
   "cell_type": "markdown",
   "metadata": {},
   "source": [
    "- **Exercício 02**:"
   ]
  },
  {
   "cell_type": "code",
   "execution_count": 3,
   "metadata": {},
   "outputs": [
    {
     "name": "stdin",
     "output_type": "stream",
     "text": [
      "Informe um número real: 4.5\n"
     ]
    },
    {
     "name": "stdout",
     "output_type": "stream",
     "text": [
      "O número digitado foi: 4.5\n"
     ]
    }
   ],
   "source": [
    "# programa que lê um número real e imprime na tela\n",
    "\n",
    "num = float(input('Informe um número real:'))\n",
    "print('O número digitado foi: {}'.format(num))"
   ]
  },
  {
   "cell_type": "markdown",
   "metadata": {},
   "source": [
    "- **Exercício 03**:"
   ]
  },
  {
   "cell_type": "code",
   "execution_count": 9,
   "metadata": {},
   "outputs": [
    {
     "name": "stdin",
     "output_type": "stream",
     "text": [
      "Insira um número inteiro: 1\n",
      "Insira outro número inteiro: 3\n",
      "Insira mais um número inteiro: 7\n"
     ]
    },
    {
     "name": "stdout",
     "output_type": "stream",
     "text": [
      "\n",
      "\n",
      "A soma dos números é 11\n"
     ]
    }
   ],
   "source": [
    "# soma de três números inteiros\n",
    "\n",
    "num1 = int(input('Insira um número inteiro:'))\n",
    "num2 = int(input('Insira outro número inteiro:'))\n",
    "num3 = int(input('Insira mais um número inteiro:'))\n",
    "\n",
    "soma = num1 + num2 + num3\n",
    "\n",
    "print('\\n')\n",
    "\n",
    "print('A soma dos números é {}'.format(soma))"
   ]
  },
  {
   "cell_type": "markdown",
   "metadata": {},
   "source": [
    "- **Exercício 04**:"
   ]
  },
  {
   "cell_type": "code",
   "execution_count": 15,
   "metadata": {},
   "outputs": [
    {
     "name": "stdin",
     "output_type": "stream",
     "text": [
      "Insira um número real: 4.3\n"
     ]
    },
    {
     "name": "stdout",
     "output_type": "stream",
     "text": [
      "O número elevado ao quadrado é: 18.49\n"
     ]
    }
   ],
   "source": [
    "# quadrado de um número real\n",
    "\n",
    "num = float(input('Insira um número real:'))\n",
    "\n",
    "print('O número elevado ao quadrado é: {:.2f}'.format(num ** 2))"
   ]
  },
  {
   "cell_type": "markdown",
   "metadata": {},
   "source": [
    "- **Exercício 05**:"
   ]
  },
  {
   "cell_type": "code",
   "execution_count": 16,
   "metadata": {},
   "outputs": [
    {
     "name": "stdin",
     "output_type": "stream",
     "text": [
      "Insira um número real:  55.7\n"
     ]
    },
    {
     "name": "stdout",
     "output_type": "stream",
     "text": [
      "A quinta parte do número é: 11.14\n"
     ]
    }
   ],
   "source": [
    "# quinta parte de um número real\n",
    "\n",
    "num = float(input('Insira um número real: '))\n",
    "print('A quinta parte do número é: {}'.format(num / 5))"
   ]
  },
  {
   "cell_type": "markdown",
   "metadata": {},
   "source": [
    "- **Exercício 06**:"
   ]
  },
  {
   "cell_type": "code",
   "execution_count": 18,
   "metadata": {},
   "outputs": [
    {
     "name": "stdin",
     "output_type": "stream",
     "text": [
      "Informe uma temperatura em graus celsius:  45.0\n"
     ]
    },
    {
     "name": "stdout",
     "output_type": "stream",
     "text": [
      "A temperatura em Fahrenheit é: 113.0°F\n"
     ]
    }
   ],
   "source": [
    "# conversor de graus celsius para graus fahrenheit\n",
    "\n",
    "c = float(input('Informe uma temperatura em graus celsius: '))\n",
    "\n",
    "f = c * (9.0/5.0) + 32.0\n",
    "\n",
    "print('A temperatura em Fahrenheit é: {}°F'.format(f))"
   ]
  },
  {
   "cell_type": "markdown",
   "metadata": {},
   "source": [
    "- **Exercício 07**:"
   ]
  },
  {
   "cell_type": "code",
   "execution_count": 19,
   "metadata": {},
   "outputs": [
    {
     "name": "stdin",
     "output_type": "stream",
     "text": [
      "Informe uma temperatura em Fahrenheit:  113.0\n"
     ]
    },
    {
     "name": "stdout",
     "output_type": "stream",
     "text": [
      "A temperatura em graus Celsius é: 45.0°C\n"
     ]
    }
   ],
   "source": [
    "# conversor de graus fahrenheit para graus celsius\n",
    "\n",
    "f = float(input('Informe uma temperatura em Fahrenheit: '))\n",
    "\n",
    "c = 5.0 * (f - 32.0)/9.0\n",
    "\n",
    "print('A temperatura em graus Celsius é: {}°C'.format(c))"
   ]
  },
  {
   "cell_type": "markdown",
   "metadata": {},
   "source": [
    "- **Exercício 08**:"
   ]
  },
  {
   "cell_type": "code",
   "execution_count": 20,
   "metadata": {},
   "outputs": [
    {
     "name": "stdin",
     "output_type": "stream",
     "text": [
      "Informe uma temperatura em Kelvin:  0\n"
     ]
    },
    {
     "name": "stdout",
     "output_type": "stream",
     "text": [
      "A temperatura em  Celsius é: -273.15°C\n"
     ]
    }
   ],
   "source": [
    "# conversor de kelvin para graus celsius\n",
    "\n",
    "k = float(input('Informe uma temperatura em Kelvin: '))\n",
    "\n",
    "c = k - 273.15\n",
    "\n",
    "print('A temperatura em  graus Celsius é: {}°C'.format(c))"
   ]
  },
  {
   "cell_type": "markdown",
   "metadata": {},
   "source": [
    "- **Exercício 09**:"
   ]
  },
  {
   "cell_type": "code",
   "execution_count": 21,
   "metadata": {},
   "outputs": [
    {
     "name": "stdin",
     "output_type": "stream",
     "text": [
      "Informe uma temperatura em graus celsius:  -273.15\n"
     ]
    },
    {
     "name": "stdout",
     "output_type": "stream",
     "text": [
      "A temperatura em  Kelvin é: 0.0K\n"
     ]
    }
   ],
   "source": [
    "# conversor de graus celsius para kelvin\n",
    "\n",
    "c = float(input('Informe uma temperatura em graus celsius: '))\n",
    "\n",
    "k = c + 273.15\n",
    "\n",
    "print('A temperatura em  Kelvin é: {}K'.format(k))"
   ]
  },
  {
   "cell_type": "markdown",
   "metadata": {},
   "source": [
    "- **Exercício 10**:"
   ]
  },
  {
   "cell_type": "code",
   "execution_count": 22,
   "metadata": {},
   "outputs": [
    {
     "name": "stdin",
     "output_type": "stream",
     "text": [
      "Informe uma velocidade em km/h:  100.0\n"
     ]
    },
    {
     "name": "stdout",
     "output_type": "stream",
     "text": [
      "A velocidade em m/s é 27.77777777777778 m/s\n"
     ]
    }
   ],
   "source": [
    "# conversor de km/h para m/s\n",
    "\n",
    "k = float(input('Informe uma velocidade em km/h: '))\n",
    "\n",
    "m = k / 3.6\n",
    "\n",
    "print('A velocidade em m/s é {} m/s'.format(m))"
   ]
  },
  {
   "cell_type": "markdown",
   "metadata": {},
   "source": [
    "- **Exercício 11**:"
   ]
  },
  {
   "cell_type": "code",
   "execution_count": 24,
   "metadata": {},
   "outputs": [
    {
     "name": "stdin",
     "output_type": "stream",
     "text": [
      "Informe uma velocidade em m/s:  27.77777777777777777777777777777777777777777\n"
     ]
    },
    {
     "name": "stdout",
     "output_type": "stream",
     "text": [
      "A velocidade em km/h é 100.0 km/h\n"
     ]
    }
   ],
   "source": [
    "# conversor de m/s para km/h\n",
    "\n",
    "m = float(input('Informe uma velocidade em m/s: '))\n",
    "\n",
    "k = m * 3.6\n",
    "\n",
    "print('A velocidade em km/h é {} km/h'.format(k))"
   ]
  },
  {
   "cell_type": "markdown",
   "metadata": {},
   "source": [
    "- **Exercício 12**:"
   ]
  },
  {
   "cell_type": "code",
   "execution_count": 2,
   "metadata": {},
   "outputs": [
    {
     "name": "stdin",
     "output_type": "stream",
     "text": [
      "Informe uma distância em milhas:  12\n"
     ]
    },
    {
     "name": "stdout",
     "output_type": "stream",
     "text": [
      "A distância em km é: 19.32 km\n"
     ]
    }
   ],
   "source": [
    "# conversor de milhas para quilômetros\n",
    "\n",
    "m = float(input('Informe uma distância em milhas: '))\n",
    "\n",
    "k = 1.61 * m\n",
    "\n",
    "print('A distância em km é: {} km'.format(k))"
   ]
  },
  {
   "cell_type": "markdown",
   "metadata": {},
   "source": [
    "- **Exercício 13**:"
   ]
  },
  {
   "cell_type": "code",
   "execution_count": 3,
   "metadata": {},
   "outputs": [
    {
     "name": "stdin",
     "output_type": "stream",
     "text": [
      "Informe uma distância em quilômetros:  19.32\n"
     ]
    },
    {
     "name": "stdout",
     "output_type": "stream",
     "text": [
      "A distância em milhas é: 12.0 milhas\n"
     ]
    }
   ],
   "source": [
    "# conversor de quilômetros para milhas\n",
    "\n",
    "k = float(input('Informe uma distância em quilômetros: '))\n",
    "\n",
    "m = k / 1.61\n",
    "\n",
    "print('A distância em milhas é: {} milhas'.format(m))"
   ]
  },
  {
   "cell_type": "markdown",
   "metadata": {},
   "source": [
    "- **Exercício 14**:"
   ]
  },
  {
   "cell_type": "code",
   "execution_count": 4,
   "metadata": {},
   "outputs": [
    {
     "name": "stdin",
     "output_type": "stream",
     "text": [
      "Infome um ângulo em graus:  90\n"
     ]
    },
    {
     "name": "stdout",
     "output_type": "stream",
     "text": [
      "O ângulo em radianos é: 1.5700000000000003\n"
     ]
    }
   ],
   "source": [
    "# conversor de graus para radianos\n",
    "\n",
    "g = float(input('Infome um ângulo em graus: '))\n",
    "\n",
    "pi = 3.14\n",
    "\n",
    "r = g * (pi/180)\n",
    "\n",
    "print('O ângulo em radianos é: {}'.format(r))"
   ]
  },
  {
   "cell_type": "markdown",
   "metadata": {},
   "source": [
    "- **Exercício 15**:"
   ]
  },
  {
   "cell_type": "code",
   "execution_count": 5,
   "metadata": {},
   "outputs": [
    {
     "name": "stdin",
     "output_type": "stream",
     "text": [
      "Informe um ângulo em radianos:  1.570000000000003\n"
     ]
    },
    {
     "name": "stdout",
     "output_type": "stream",
     "text": [
      "O ângulo em graus é: 90.00000000000016\n"
     ]
    }
   ],
   "source": [
    "# conversor de radianos para graus\n",
    "\n",
    "r = float(input('Informe um ângulo em radianos: '))\n",
    "\n",
    "pi = 3.14\n",
    "\n",
    "g = r * (180/pi)\n",
    "\n",
    "print('O ângulo em graus é: {}'.format(g))"
   ]
  },
  {
   "cell_type": "markdown",
   "metadata": {},
   "source": [
    "- **Exercício 16**:"
   ]
  },
  {
   "cell_type": "code",
   "execution_count": 6,
   "metadata": {},
   "outputs": [
    {
     "name": "stdin",
     "output_type": "stream",
     "text": [
      "Informe um valor em polegadas:  12\n"
     ]
    },
    {
     "name": "stdout",
     "output_type": "stream",
     "text": [
      "O valor em centímetros é: 30.48\n"
     ]
    }
   ],
   "source": [
    "# conversor de polegadas para centímetros\n",
    "\n",
    "p = float(input('Informe um valor em polegadas: '))\n",
    "\n",
    "c = p * 2.54\n",
    "\n",
    "print('O valor em centímetros é: {}'.format(c))"
   ]
  },
  {
   "cell_type": "markdown",
   "metadata": {},
   "source": [
    "- **Exercício 17**:"
   ]
  },
  {
   "cell_type": "code",
   "execution_count": 7,
   "metadata": {},
   "outputs": [
    {
     "name": "stdin",
     "output_type": "stream",
     "text": [
      "Informe um valor em centímetros:  30.48\n"
     ]
    },
    {
     "name": "stdout",
     "output_type": "stream",
     "text": [
      "O valor em polegadas é 12.0\n"
     ]
    }
   ],
   "source": [
    "# conversor de centímetros para polegadas\n",
    "\n",
    "c = float(input('Informe um valor em centímetros: '))\n",
    "\n",
    "p = c / 2.54\n",
    "\n",
    "print('O valor em polegadas é {}'.format(p))"
   ]
  },
  {
   "cell_type": "markdown",
   "metadata": {},
   "source": [
    "- **Exercício 18**:"
   ]
  },
  {
   "cell_type": "code",
   "execution_count": 9,
   "metadata": {},
   "outputs": [
    {
     "name": "stdin",
     "output_type": "stream",
     "text": [
      "Informe uma unidade em m³:  12\n"
     ]
    },
    {
     "name": "stdout",
     "output_type": "stream",
     "text": [
      "O valor em litros é: 12000.0\n"
     ]
    }
   ],
   "source": [
    "# conversor de m³ para litros\n",
    "\n",
    "m3 = float(input('Informe uma unidade em m³: '))\n",
    "\n",
    "l = 1000 * m3\n",
    "\n",
    "print('O valor em litros é: {}'.format(l))"
   ]
  },
  {
   "cell_type": "markdown",
   "metadata": {},
   "source": [
    "- **Exercício 19**:"
   ]
  },
  {
   "cell_type": "code",
   "execution_count": 10,
   "metadata": {},
   "outputs": [
    {
     "name": "stdin",
     "output_type": "stream",
     "text": [
      "Informe um valor em litros:  12000\n"
     ]
    },
    {
     "name": "stdout",
     "output_type": "stream",
     "text": [
      "O valor em m³ é: 12.0\n"
     ]
    }
   ],
   "source": [
    "# conversor de litros para m³\n",
    "\n",
    "l = float(input('Informe um valor em litros: '))\n",
    "\n",
    "m3 = l / 1000\n",
    "\n",
    "print('O valor em m³ é: {}'.format(m3))"
   ]
  },
  {
   "cell_type": "markdown",
   "metadata": {},
   "source": [
    "- **Exercício 20**:"
   ]
  },
  {
   "cell_type": "code",
   "execution_count": 11,
   "metadata": {},
   "outputs": [
    {
     "name": "stdin",
     "output_type": "stream",
     "text": [
      "Informe um valor em quilogramas:  34\n"
     ]
    },
    {
     "name": "stdout",
     "output_type": "stream",
     "text": [
      "O valor em libras é: 75.55555555555556\n"
     ]
    }
   ],
   "source": [
    "# conversor de quilogramas para libras\n",
    "\n",
    "k = float(input('Informe um valor em quilogramas: '))\n",
    "\n",
    "l = k / 0.45\n",
    "\n",
    "print('O valor em libras é: {}'.format(l))"
   ]
  },
  {
   "cell_type": "markdown",
   "metadata": {},
   "source": [
    "- **Exercício 21**:"
   ]
  },
  {
   "cell_type": "code",
   "execution_count": 12,
   "metadata": {},
   "outputs": [
    {
     "name": "stdin",
     "output_type": "stream",
     "text": [
      "Informe um valor em libras:  75.55555555555556\n"
     ]
    },
    {
     "name": "stdout",
     "output_type": "stream",
     "text": [
      "O valor em quilogramas é: 34.0\n"
     ]
    }
   ],
   "source": [
    "# conversor de libras para quilograma\n",
    "\n",
    "l = float(input('Informe um valor em libras: '))\n",
    "\n",
    "k = l * 0.45\n",
    "\n",
    "print('O valor em quilogramas é: {}'.format(k))"
   ]
  },
  {
   "cell_type": "markdown",
   "metadata": {},
   "source": [
    "- **Exercício 22**:"
   ]
  },
  {
   "cell_type": "code",
   "execution_count": 13,
   "metadata": {},
   "outputs": [
    {
     "name": "stdin",
     "output_type": "stream",
     "text": [
      "Insira um valor em jardas:  43\n"
     ]
    },
    {
     "name": "stdout",
     "output_type": "stream",
     "text": [
      "O valor em metros é: 39.13\n"
     ]
    }
   ],
   "source": [
    "# conversor de jardas para metros\n",
    "\n",
    "j = float(input('Insira um valor em jardas: '))\n",
    "\n",
    "m = 0.91 * j\n",
    "\n",
    "print('O valor em metros é: {}'.format(m))"
   ]
  },
  {
   "cell_type": "markdown",
   "metadata": {},
   "source": [
    "- **Exercício 23**:"
   ]
  },
  {
   "cell_type": "code",
   "execution_count": 14,
   "metadata": {},
   "outputs": [
    {
     "name": "stdin",
     "output_type": "stream",
     "text": [
      "Insira um valor em metros:  39.13\n"
     ]
    },
    {
     "name": "stdout",
     "output_type": "stream",
     "text": [
      "O valor em jardas é: 43.0\n"
     ]
    }
   ],
   "source": [
    "# conversor de metros para jardas\n",
    "\n",
    "m = float(input('Insira um valor em metros: '))\n",
    "\n",
    "j = m / 0.91\n",
    "\n",
    "print('O valor em jardas é: {}'.format(j))"
   ]
  },
  {
   "cell_type": "markdown",
   "metadata": {},
   "source": [
    "- **Exercício 24**:"
   ]
  },
  {
   "cell_type": "code",
   "execution_count": 15,
   "metadata": {},
   "outputs": [
    {
     "name": "stdin",
     "output_type": "stream",
     "text": [
      "Informe uma área em m²:  23\n"
     ]
    },
    {
     "name": "stdout",
     "output_type": "stream",
     "text": [
      "A área em acres é: 0.005680999999999999\n"
     ]
    }
   ],
   "source": [
    "# conversor de m² para acres\n",
    "\n",
    "m2 = float(input('Informe uma área em m²: '))\n",
    "\n",
    "a = m2 * 0.000247\n",
    "\n",
    "print('A área em acres é: {}'.format(a))"
   ]
  },
  {
   "cell_type": "markdown",
   "metadata": {},
   "source": [
    "- **Exercício 25**:"
   ]
  },
  {
   "cell_type": "code",
   "execution_count": 17,
   "metadata": {},
   "outputs": [
    {
     "name": "stdin",
     "output_type": "stream",
     "text": [
      "Informe uma área em acres:  0.005680999999999999\n"
     ]
    },
    {
     "name": "stdout",
     "output_type": "stream",
     "text": [
      "A área em m² é: 23.0\n"
     ]
    }
   ],
   "source": [
    "# conversor de acres para m²\n",
    "\n",
    "a = float(input('Informe uma área em acres: '))\n",
    "\n",
    "m2 = a / 0.000247\n",
    "\n",
    "print('A área em m² é: {}'.format(m2))"
   ]
  },
  {
   "cell_type": "markdown",
   "metadata": {},
   "source": [
    "- **Exercício 26**:"
   ]
  },
  {
   "cell_type": "code",
   "execution_count": 21,
   "metadata": {},
   "outputs": [
    {
     "name": "stdin",
     "output_type": "stream",
     "text": [
      "Informe uma área em m²:  1000\n"
     ]
    },
    {
     "name": "stdout",
     "output_type": "stream",
     "text": [
      "A área em hectares é: 0.1\n"
     ]
    }
   ],
   "source": [
    "# conversor de m² para hectares\n",
    "\n",
    "m2 = float(input('Informe uma área em m²: '))\n",
    "\n",
    "h = m2 * 0.0001\n",
    "\n",
    "print('A área em hectares é: {}'.format(h))"
   ]
  },
  {
   "cell_type": "markdown",
   "metadata": {},
   "source": [
    "- **Exercício 27**:"
   ]
  },
  {
   "cell_type": "code",
   "execution_count": 22,
   "metadata": {},
   "outputs": [
    {
     "name": "stdin",
     "output_type": "stream",
     "text": [
      "Informe uma área em hectares:  0.1\n"
     ]
    },
    {
     "name": "stdout",
     "output_type": "stream",
     "text": [
      "A área em m² é: 1000.0\n"
     ]
    }
   ],
   "source": [
    "# conversor de hectares para m²\n",
    "\n",
    "h = float(input('Informe uma área em hectares: '))\n",
    "\n",
    "m2 = h / 0.0001\n",
    "\n",
    "print('A área em m² é: {}'.format(m2))"
   ]
  },
  {
   "cell_type": "markdown",
   "metadata": {},
   "source": [
    " - **Exercício 28**:"
   ]
  },
  {
   "cell_type": "code",
   "execution_count": 23,
   "metadata": {},
   "outputs": [
    {
     "name": "stdin",
     "output_type": "stream",
     "text": [
      "Informe o primeiro valor:  2\n",
      "Informe o segundo valor:  3\n",
      "Informe o terceiro valor:  4\n"
     ]
    },
    {
     "name": "stdout",
     "output_type": "stream",
     "text": [
      "A soma do quandrado dos números é: 29.0\n"
     ]
    }
   ],
   "source": [
    "# soma dos quadrados dos três valores lidos\n",
    "\n",
    "valor1 = float(input('Informe o primeiro valor: '))\n",
    "valor2 = float(input('Informe o segundo valor: '))\n",
    "valor3 = float(input('Informe o terceiro valor: '))\n",
    "\n",
    "soma = (valor1 ** 2) + (valor2 ** 2) + (valor3 ** 2)\n",
    "\n",
    "print('A soma do quandrado dos números é: {}'.format(soma))"
   ]
  },
  {
   "cell_type": "markdown",
   "metadata": {},
   "source": [
    "- **Exercício 29**:"
   ]
  },
  {
   "cell_type": "code",
   "execution_count": 24,
   "metadata": {},
   "outputs": [
    {
     "name": "stdin",
     "output_type": "stream",
     "text": [
      "Informe a primeira nota:  12\n",
      "Informe a segunda nota:  34\n",
      "Informe a terceira nota:  56\n",
      "Informe a quarta nota:  78\n"
     ]
    },
    {
     "name": "stdout",
     "output_type": "stream",
     "text": [
      "A média das notas é: 45.0\n"
     ]
    }
   ],
   "source": [
    "# média aritmética de quatro notas\n",
    "\n",
    "nota1 = float(input('Informe a primeira nota: '))\n",
    "nota2 = float(input('Informe a segunda nota: '))\n",
    "nota3 = float(input('Informe a terceira nota: '))\n",
    "nota4 = float(input('Informe a quarta nota: '))\n",
    "\n",
    "media = (nota1 + nota2 + nota3 + nota4) / 4\n",
    "\n",
    "print('A média das notas é: {}'.format(media))"
   ]
  },
  {
   "cell_type": "markdown",
   "metadata": {},
   "source": [
    "- **Exercício 30**:"
   ]
  },
  {
   "cell_type": "code",
   "execution_count": 25,
   "metadata": {},
   "outputs": [
    {
     "name": "stdin",
     "output_type": "stream",
     "text": [
      "Insira um valor em real:  10\n"
     ]
    },
    {
     "name": "stdout",
     "output_type": "stream",
     "text": [
      "O valor em dólar é: 53.2\n"
     ]
    }
   ],
   "source": [
    "# conversão de real para dólar\n",
    "\n",
    "real = float(input('Insira um valor em real: '))\n",
    "\n",
    "dolar = real * 5.32\n",
    "\n",
    "print('O valor em dólar é: {}'.format(dolar))"
   ]
  },
  {
   "cell_type": "markdown",
   "metadata": {},
   "source": [
    "- **Exercício 31**:"
   ]
  },
  {
   "cell_type": "code",
   "execution_count": 27,
   "metadata": {},
   "outputs": [
    {
     "name": "stdin",
     "output_type": "stream",
     "text": [
      "Insira um número inteiro:  12\n"
     ]
    },
    {
     "name": "stdout",
     "output_type": "stream",
     "text": [
      "O antecessor é: 11 e o sucessor é 13\n"
     ]
    }
   ],
   "source": [
    "# imprimir antecessor e sucessor\n",
    "\n",
    "numero = int(input('Insira um número inteiro: '))\n",
    "\n",
    "print('O antecessor é: {} e o sucessor é {}'.format(numero - 1, \n",
    "                                                    numero + 1))"
   ]
  },
  {
   "cell_type": "markdown",
   "metadata": {},
   "source": [
    "- **Exercício 32**:"
   ]
  },
  {
   "cell_type": "code",
   "execution_count": 28,
   "metadata": {},
   "outputs": [
    {
     "name": "stdin",
     "output_type": "stream",
     "text": [
      "Insira um número inteiro:  5\n"
     ]
    },
    {
     "name": "stdout",
     "output_type": "stream",
     "text": [
      "A soma do triplo do antecessor com o dobro do sucessor é: 100\n"
     ]
    }
   ],
   "source": [
    "# soma do triplo do antecessor com o dobro do sucessor\n",
    "\n",
    "numero = int(input('Insira um número inteiro: '))\n",
    "\n",
    "print('A soma do triplo do antecessor com o dobro do sucessor é: {}'\n",
    "     .format(((numero - 1) ** 3) + ((numero + 1) ** 2)))"
   ]
  },
  {
   "cell_type": "markdown",
   "metadata": {},
   "source": [
    "- **Exercício 33**:"
   ]
  },
  {
   "cell_type": "code",
   "execution_count": 29,
   "metadata": {},
   "outputs": [
    {
     "name": "stdin",
     "output_type": "stream",
     "text": [
      "Insira um valor do lado do quadrado:  56\n"
     ]
    },
    {
     "name": "stdout",
     "output_type": "stream",
     "text": [
      "A área do quadrado é: 3136.0\n"
     ]
    }
   ],
   "source": [
    "# área de um quadrado\n",
    "\n",
    "lado = float(input('Insira um valor do lado do quadrado: '))\n",
    "\n",
    "area = lado * lado\n",
    "\n",
    "print('A área do quadrado é: {}'.format(area))"
   ]
  },
  {
   "cell_type": "markdown",
   "metadata": {},
   "source": [
    "- **Exercício 34**:"
   ]
  },
  {
   "cell_type": "code",
   "execution_count": 30,
   "metadata": {},
   "outputs": [
    {
     "name": "stdin",
     "output_type": "stream",
     "text": [
      "Insira o valor do raío do círculo:  12\n"
     ]
    },
    {
     "name": "stdout",
     "output_type": "stream",
     "text": [
      "A área do círculo é: 452.389248\n"
     ]
    }
   ],
   "source": [
    "# área do círculo\n",
    "\n",
    "raio = float(input('Insira o valor do raío do círculo: '))\n",
    "\n",
    "pi = 3.141592\n",
    "\n",
    "area = pi * (raio ** 2)\n",
    "\n",
    "print('A área do círculo é: {}'.format(area))"
   ]
  },
  {
   "cell_type": "markdown",
   "metadata": {},
   "source": [
    "- **Exercício 35**:"
   ]
  },
  {
   "cell_type": "code",
   "execution_count": 31,
   "metadata": {},
   "outputs": [
    {
     "name": "stdin",
     "output_type": "stream",
     "text": [
      "Informe o valor do cateto oposto:  3\n",
      "Informe o valor do cateto adjacente:  4\n"
     ]
    },
    {
     "name": "stdout",
     "output_type": "stream",
     "text": [
      "O valor da hipotenusa é: 25.0\n"
     ]
    }
   ],
   "source": [
    "# teorema de pitágoras\n",
    "\n",
    "a = float(input('Informe o valor do cateto oposto: '))\n",
    "b = float(input('Informe o valor do cateto adjacente: '))\n",
    "\n",
    "hipotenusa = a ** 2 + b ** 2\n",
    "\n",
    "print('O valor da hipotenusa é: {}'.format(hipotenusa))"
   ]
  },
  {
   "cell_type": "markdown",
   "metadata": {},
   "source": [
    "- **Exercício 36**:"
   ]
  },
  {
   "cell_type": "code",
   "execution_count": 32,
   "metadata": {},
   "outputs": [
    {
     "name": "stdin",
     "output_type": "stream",
     "text": [
      "Informe a altura do cilíndro:  23\n",
      "Informe o raio do cilíndro:  3\n"
     ]
    },
    {
     "name": "stdout",
     "output_type": "stream",
     "text": [
      "O volume do cilíndro é: 650.309544\n"
     ]
    }
   ],
   "source": [
    "# volume de um cilíndro\n",
    "\n",
    "altura = float(input('Informe a altura do cilíndro: '))\n",
    "raio = float(input('Informe o raio do cilíndro: '))\n",
    "\n",
    "pi = 3.141592\n",
    "\n",
    "volume = pi * (raio ** 2) * altura\n",
    "\n",
    "print('O volume do cilíndro é: {}'.format(volume))"
   ]
  },
  {
   "cell_type": "markdown",
   "metadata": {},
   "source": [
    "- **Exercício 37**:"
   ]
  },
  {
   "cell_type": "code",
   "execution_count": 34,
   "metadata": {},
   "outputs": [
    {
     "name": "stdin",
     "output_type": "stream",
     "text": [
      "Informe o valor do produto:  34\n"
     ]
    },
    {
     "name": "stdout",
     "output_type": "stream",
     "text": [
      "O valor com 12% de desconto é: 29.92\n"
     ]
    }
   ],
   "source": [
    "# calcula desconto\n",
    "\n",
    "valor = float(input('Informe o valor do produto: '))\n",
    "\n",
    "print('O valor com 12% de desconto é: {}'.\n",
    "      format(valor - (valor * 0.12)))"
   ]
  },
  {
   "cell_type": "markdown",
   "metadata": {},
   "source": [
    "- **Exercício 38**:"
   ]
  },
  {
   "cell_type": "code",
   "execution_count": 35,
   "metadata": {},
   "outputs": [
    {
     "name": "stdin",
     "output_type": "stream",
     "text": [
      "Informe o salário do funcionário:  1000\n"
     ]
    },
    {
     "name": "stdout",
     "output_type": "stream",
     "text": [
      "O salário sofreu um aumento de 25%, o novo valor é: 1250.0 reais\n"
     ]
    }
   ],
   "source": [
    "# aumento no salário\n",
    "\n",
    "salario = float(input('Informe o salário do funcionário: '))\n",
    "\n",
    "print('O salário sofreu um aumento de 25%, o novo valor é: {} reais'\n",
    "     .format(salario + (salario * 0.25)))"
   ]
  },
  {
   "cell_type": "markdown",
   "metadata": {},
   "source": [
    "- **Exercício 39**:"
   ]
  },
  {
   "cell_type": "code",
   "execution_count": 37,
   "metadata": {},
   "outputs": [
    {
     "name": "stdout",
     "output_type": "stream",
     "text": [
      "O valor total é 780.000,0 reais do prêmio.\n",
      "Os candidatos receberão:\n",
      "Primeiro ganhador: 358800.0\n",
      "Segundo ganhador: 249600.0\n",
      "Terceiro ganhador: 171600.0\n"
     ]
    }
   ],
   "source": [
    "# divisão de dinheiro\n",
    "\n",
    "valor = 780000\n",
    "\n",
    "print('O valor total é 780.000,0 reais do prêmio.')\n",
    "print('Os candidatos receberão:')\n",
    "print('Primeiro ganhador: {}'.format(valor * 0.46))\n",
    "print('Segundo ganhador: {}'.format(valor * 0.32))\n",
    "print('Terceiro ganhador: {}'.format(valor * 0.22))"
   ]
  },
  {
   "cell_type": "markdown",
   "metadata": {},
   "source": [
    "- **Exercício 40**:"
   ]
  },
  {
   "cell_type": "code",
   "execution_count": 39,
   "metadata": {},
   "outputs": [
    {
     "name": "stdout",
     "output_type": "stream",
     "text": [
      "Trabalho do encador: 30.00 R$ o dia\n"
     ]
    },
    {
     "name": "stdin",
     "output_type": "stream",
     "text": [
      "Informe os dias de trabalho:  30\n"
     ]
    },
    {
     "name": "stdout",
     "output_type": "stream",
     "text": [
      "Salário Líquido: 828.0\n"
     ]
    }
   ],
   "source": [
    "# valor de trabalho\n",
    "\n",
    "print('Trabalho do encador: 30.00 R$ o dia')\n",
    "\n",
    "dias = int(input('Informe os dias de trabalho: '))\n",
    "\n",
    "print('Salário Líquido: {}'.\n",
    "      format(dias * 30 - (dias * 30 * 0.08)))"
   ]
  },
  {
   "cell_type": "markdown",
   "metadata": {},
   "source": [
    "- **Exercício 41**:"
   ]
  },
  {
   "cell_type": "code",
   "execution_count": 43,
   "metadata": {},
   "outputs": [
    {
     "name": "stdin",
     "output_type": "stream",
     "text": [
      "Informe o valor pago por horas trabalhadas:  30\n",
      "Informe a quantidade de horas trabalhadas:  160\n"
     ]
    },
    {
     "name": "stdout",
     "output_type": "stream",
     "text": [
      "O salário do trabalhador é: 5280.0\n"
     ]
    }
   ],
   "source": [
    "# cálculo de salário\n",
    "\n",
    "valor = float(input('Informe o valor pago por horas trabalhadas: '))\n",
    "horas = int(input('Informe a quantidade de horas trabalhadas: '))\n",
    "\n",
    "salario = valor * horas + (valor * horas * 0.1)\n",
    "\n",
    "print('O salário do trabalhador é: {}'.format(salario))"
   ]
  },
  {
   "cell_type": "markdown",
   "metadata": {},
   "source": [
    "- **Exercício 42**:"
   ]
  },
  {
   "cell_type": "code",
   "execution_count": 44,
   "metadata": {},
   "outputs": [
    {
     "name": "stdin",
     "output_type": "stream",
     "text": [
      "Informe o salário base do trabalhador:  3456.78\n"
     ]
    },
    {
     "name": "stdout",
     "output_type": "stream",
     "text": [
      "O salário líquido é: 3387.6444 reais\n"
     ]
    }
   ],
   "source": [
    "# salário base do trabalhador\n",
    "\n",
    "salario_base = float(input('Informe o salário base do trabalhador: '))\n",
    "\n",
    "salario_liquido = salario_base + (salario_base * 0.05) - (salario_base * 0.07)\n",
    "\n",
    "print('O salário líquido é: {} reais'.format(salario_liquido))"
   ]
  },
  {
   "cell_type": "markdown",
   "metadata": {},
   "source": [
    "- **Exercício 43**:"
   ]
  },
  {
   "cell_type": "code",
   "execution_count": 46,
   "metadata": {},
   "outputs": [
    {
     "name": "stdin",
     "output_type": "stream",
     "text": [
      "Informe o valor total do produto:  1000\n"
     ]
    },
    {
     "name": "stdout",
     "output_type": "stream",
     "text": [
      "Valor a pagar com desconto de 10%: 900.0 reais\n",
      "Valor parcelado em 3x sem juros: 333.33 reais\n",
      "Comissão do vendedor - venda a vista: 45.0 reais\n",
      "Comissão do vendendor - venda parcelada: 50.0 reais\n"
     ]
    }
   ],
   "source": [
    "# cálculo de vendas\n",
    "\n",
    "produto = float(input('Informe o valor total do produto: '))\n",
    "\n",
    "print('Valor a pagar com desconto de 10%: {} reais'\n",
    "     .format(produto - (produto * 0.1)))\n",
    "\n",
    "print('Valor parcelado em 3x sem juros: {:.2f} reais'.\n",
    "     format(produto / 3))\n",
    "\n",
    "print('Comissão do vendedor - venda a vista: {} reais'\n",
    "     .format((produto - (produto * 0.1)) * 0.05))\n",
    "\n",
    "print('Comissão do vendendor - venda parcelada: {} reais'\n",
    "     .format(produto * 0.05))"
   ]
  },
  {
   "cell_type": "markdown",
   "metadata": {},
   "source": [
    "- **Exercício 44**:"
   ]
  },
  {
   "cell_type": "code",
   "execution_count": 47,
   "metadata": {},
   "outputs": [
    {
     "name": "stdin",
     "output_type": "stream",
     "text": [
      "Informe a altura do degrau:  4\n",
      "Informe a altura a ser alcançada:  50\n"
     ]
    },
    {
     "name": "stdout",
     "output_type": "stream",
     "text": [
      "O usuário precisará de aproximadamente 13.0 degrais.\n"
     ]
    }
   ],
   "source": [
    "# estimativa de chegada em degrais\n",
    "\n",
    "altura_degrau = float(input('Informe a altura do degrau: '))\n",
    "altura_desejada = float(input('Informe a altura a ser alcançada: '))\n",
    "\n",
    "total = altura_desejada // altura_degrau + 1\n",
    "\n",
    "print('O usuário precisará de aproximadamente {} degrais.'\n",
    "      .format(total))"
   ]
  },
  {
   "cell_type": "markdown",
   "metadata": {},
   "source": [
    "- **Exercício 45**:"
   ]
  },
  {
   "cell_type": "code",
   "execution_count": 50,
   "metadata": {},
   "outputs": [
    {
     "name": "stdin",
     "output_type": "stream",
     "text": [
      "Informe uma letra maiúscula Q\n"
     ]
    },
    {
     "name": "stdout",
     "output_type": "stream",
     "text": [
      "A letra minúscula é: q\n"
     ]
    }
   ],
   "source": [
    "# conversor de letra maiúscula em minúscula\n",
    "\n",
    "letra = str(input('Informe uma letra maiúscula'))\n",
    "\n",
    "letra = letra.lower()\n",
    "\n",
    "print('A letra minúscula é: {}'.format(letra))"
   ]
  },
  {
   "cell_type": "markdown",
   "metadata": {},
   "source": [
    "- **Exercício 46**:"
   ]
  },
  {
   "cell_type": "code",
   "execution_count": 52,
   "metadata": {},
   "outputs": [
    {
     "name": "stdin",
     "output_type": "stream",
     "text": [
      "Informe um numero inteiro:  123456789\n"
     ]
    },
    {
     "name": "stdout",
     "output_type": "stream",
     "text": [
      "O número na ordem invertida é: 987654321\n"
     ]
    }
   ],
   "source": [
    "# inverte números\n",
    "\n",
    "numero = str(input('Informe um numero inteiro: '))\n",
    "\n",
    "numero = numero[::-1]\n",
    "\n",
    "print('O número na ordem invertida é: {}'.format(numero))"
   ]
  },
  {
   "cell_type": "markdown",
   "metadata": {},
   "source": [
    "- **Exercício 47**:"
   ]
  },
  {
   "cell_type": "code",
   "execution_count": 54,
   "metadata": {},
   "outputs": [
    {
     "name": "stdin",
     "output_type": "stream",
     "text": [
      "Informe um número inteiro de 4 dígitos:  4567\n"
     ]
    },
    {
     "name": "stdout",
     "output_type": "stream",
     "text": [
      "4\n",
      "5\n",
      "6\n",
      "7\n"
     ]
    }
   ],
   "source": [
    "# imprima um dígito por linha\n",
    "\n",
    "numero = int(input('Informe um número inteiro de 4 dígitos: '))\n",
    "\n",
    "print('{}'.format(numero // 1000))\n",
    "print('{}'.format((numero % 1000) // 100))\n",
    "print('{}'.format((numero % 100) // 10))\n",
    "print('{}'.format(numero % 10))\n"
   ]
  },
  {
   "cell_type": "markdown",
   "metadata": {},
   "source": [
    "- **Programa 48**:"
   ]
  },
  {
   "cell_type": "code",
   "execution_count": 55,
   "metadata": {},
   "outputs": [
    {
     "name": "stdin",
     "output_type": "stream",
     "text": [
      "Informe um horário em segundos:  567897\n"
     ]
    },
    {
     "name": "stdout",
     "output_type": "stream",
     "text": [
      "O horário é: 6 dias, 13 horas, 44 minutos, 57 segundos\n"
     ]
    }
   ],
   "source": [
    "# converte segundos para horas, minutos e segundos\n",
    "\n",
    "segundos = int(input('Informe um horário em segundos: '))\n",
    "\n",
    "dias = segundos // 86400\n",
    "segundos = segundos % 86400\n",
    "horas = segundos // 3600\n",
    "segundos = segundos % 3600\n",
    "minutos = segundos // 60\n",
    "segundos = segundos % 60\n",
    "\n",
    "print('O horário é: {} dias, {} horas, {} minutos, {} segundos'\n",
    "     .format(dias, horas, minutos, segundos))"
   ]
  },
  {
   "cell_type": "markdown",
   "metadata": {},
   "source": [
    "- **Programa 49**:"
   ]
  },
  {
   "cell_type": "code",
   "execution_count": 2,
   "metadata": {},
   "outputs": [
    {
     "name": "stdin",
     "output_type": "stream",
     "text": [
      "Informe a hora inteira de início do experimento:  23\n",
      "Informe os minutos inteiros de início do experimento:  59\n",
      "Informe os segundos inteiros de início do experimento:  59\n"
     ]
    },
    {
     "name": "stdout",
     "output_type": "stream",
     "text": [
      "\n",
      "\n"
     ]
    },
    {
     "name": "stdin",
     "output_type": "stream",
     "text": [
      "Informe a duração do experimento em segundos:  3600\n"
     ]
    },
    {
     "name": "stdout",
     "output_type": "stream",
     "text": [
      "\n",
      "\n",
      "Tempo total do experimento: \n",
      "1 dias, 0 horas, 59 minutos, 59 segundos\n"
     ]
    }
   ],
   "source": [
    "##### duração de uma experiência\n",
    "\n",
    "def solicita_inicio():\n",
    "    \n",
    "    hora_inicio = int(input('Informe a hora inteira de início do experimento: '))\n",
    "    minutos_inicio = int(input('Informe os minutos inteiros de início do experimento: '))\n",
    "    segundos_inicio = int(input('Informe os segundos inteiros de início do experimento: '))\n",
    "    print('\\n')\n",
    "    \n",
    "    segundos = converte_segundos(hora_inicio, minutos_inicio, segundos_inicio)\n",
    "    \n",
    "    return(segundos)\n",
    "\n",
    "\n",
    "def converte_segundos(hora_inicio, minutos_inicio, segundos_inicio):\n",
    "        \n",
    "    segundos = (hora_inicio * 3600) + (minutos_inicio * 60) + segundos_inicio\n",
    "    \n",
    "    return(segundos)\n",
    "\n",
    "\n",
    "def solicita_duracao():\n",
    "    \n",
    "    duracao = int(input('Informe a duração do experimento em segundos: '))\n",
    "    print('\\n')\n",
    "\n",
    "    return(duracao)\n",
    "\n",
    "\n",
    "def converte_horas(segundos):\n",
    "    \n",
    "    dias = segundos // 86400\n",
    "    segundos = segundos % 86400\n",
    "    horas = segundos // 3600\n",
    "    segundos = segundos % 3600\n",
    "    minutos = segundos // 60\n",
    "    segundos = segundos % 60\n",
    "    \n",
    "    print('Tempo total do experimento: ')\n",
    "    print('{} dias, {} horas, {} minutos, {} segundos'\n",
    "         .format(dias, horas, minutos, segundos))\n",
    "\n",
    "    return(None)\n",
    "\n",
    "\n",
    "def esquema_geral():\n",
    "    \n",
    "    segundos_totais = solicita_inicio() + solicita_duracao()\n",
    "    \n",
    "    converte_horas(segundos_totais)\n",
    "\n",
    "    return(None)\n",
    "\n",
    "\n",
    "def main():\n",
    "    \n",
    "    esquema_geral()\n",
    "\n",
    "    return(None)\n",
    "\n",
    "\n",
    "if __name__ == '__main__':\n",
    "    main()"
   ]
  },
  {
   "cell_type": "markdown",
   "metadata": {},
   "source": [
    "- **Programa 50**:"
   ]
  },
  {
   "cell_type": "code",
   "execution_count": 3,
   "metadata": {},
   "outputs": [
    {
     "name": "stdin",
     "output_type": "stream",
     "text": [
      "Informe a idade do usuário:  19\n",
      "Informe o ano atual:  2020\n"
     ]
    },
    {
     "name": "stdout",
     "output_type": "stream",
     "text": [
      "O ano de nascimento é: 2001\n"
     ]
    }
   ],
   "source": [
    "# calcula ano de nascimento\n",
    "\n",
    "idade = int(input('Informe a idade do usuário: '))\n",
    "ano_atual = int(input('Informe o ano atual: '))\n",
    "\n",
    "ano_nascimento = ano_atual - idade\n",
    "\n",
    "print('O ano de nascimento é: {}'.\n",
    "      format(ano_nascimento))"
   ]
  },
  {
   "cell_type": "markdown",
   "metadata": {},
   "source": [
    "- **Programa 51**:"
   ]
  },
  {
   "cell_type": "code",
   "execution_count": 4,
   "metadata": {},
   "outputs": [
    {
     "name": "stdin",
     "output_type": "stream",
     "text": [
      "Informe a coordenada x:  2\n",
      "Informe a coordenada y:  3\n"
     ]
    },
    {
     "name": "stdout",
     "output_type": "stream",
     "text": [
      "O módulo do vetor é: 3.605551275463989 uc\n"
     ]
    }
   ],
   "source": [
    "# cálculo do módulo de um vetor\n",
    "\n",
    "x = float(input('Informe a coordenada x: '))\n",
    "y = float(input('Informe a coordenada y: '))\n",
    "\n",
    "modulo = ((x ** 2) + (y ** 2)) ** (1/2)\n",
    "\n",
    "print('O módulo do vetor é: {} uc'.format(modulo))"
   ]
  },
  {
   "cell_type": "markdown",
   "metadata": {},
   "source": [
    "- **Programa 52**:"
   ]
  },
  {
   "cell_type": "code",
   "execution_count": 5,
   "metadata": {},
   "outputs": [
    {
     "name": "stdin",
     "output_type": "stream",
     "text": [
      "Informe o valor do prêmio:  4000\n",
      "Valor investido pelo primeiro jogador:  12\n",
      "Valor investido pelo segundo jogador:  3\n",
      "Valor investido pelo terceiro jogador:  5\n"
     ]
    },
    {
     "name": "stdout",
     "output_type": "stream",
     "text": [
      "Valor recebido pelo primeiro jogador: 2400.0 reais\n",
      "Valor recebido pelo segundo jogador: 600.0 reais\n",
      "Valor recebido pelo terceiro jogador: 1000.0 reais\n"
     ]
    }
   ],
   "source": [
    "# cálculo de divisão de prêmios\n",
    "\n",
    "valor = float(input('Informe o valor do prêmio: '))\n",
    "\n",
    "apostador1 = float(input('Valor investido pelo primeiro jogador: '))\n",
    "apostador2 = float(input('Valor investido pelo segundo jogador: '))\n",
    "apostador3 = float(input('Valor investido pelo terceiro jogador: '))\n",
    "\n",
    "total = apostador1 + apostador2 + apostador3\n",
    "\n",
    "print('Valor recebido pelo primeiro jogador: {} reais'\n",
    "     .format(valor * (apostador1 / total)))\n",
    "print('Valor recebido pelo segundo jogador: {} reais'\n",
    "     .format(valor * (apostador2 / total)))\n",
    "print('Valor recebido pelo terceiro jogador: {} reais'\n",
    "     .format(valor * (apostador3 / total)))"
   ]
  },
  {
   "cell_type": "markdown",
   "metadata": {},
   "source": [
    "- **Exercício 53**:"
   ]
  },
  {
   "cell_type": "code",
   "execution_count": 9,
   "metadata": {},
   "outputs": [
    {
     "name": "stdin",
     "output_type": "stream",
     "text": [
      "Informe o comprimento do terreno:  23\n",
      "Informe a largura do terreno:  78\n",
      "Informe o valor do fio:  6.7\n"
     ]
    },
    {
     "name": "stdout",
     "output_type": "stream",
     "text": [
      "O valor total para passar a tela no terreno é: 1353.40 reais\n"
     ]
    }
   ],
   "source": [
    "# cálculo de metragem\n",
    "\n",
    "comprimento = float(input('Informe o comprimento do terreno: '))\n",
    "largura = float(input('Informe a largura do terreno: '))\n",
    "\n",
    "perimetro = (comprimento * 2) + (largura * 2)\n",
    "\n",
    "valor = float(input('Informe o valor do fio: '))\n",
    "\n",
    "print('O valor total para passar a tela no terreno é: {:.2f} reais'.\n",
    "      format(perimetro * valor))"
   ]
  }
 ],
 "metadata": {
  "kernelspec": {
   "display_name": "Python 3",
   "language": "python",
   "name": "python3"
  },
  "language_info": {
   "codemirror_mode": {
    "name": "ipython",
    "version": 3
   },
   "file_extension": ".py",
   "mimetype": "text/x-python",
   "name": "python",
   "nbconvert_exporter": "python",
   "pygments_lexer": "ipython3",
   "version": "3.7.4"
  }
 },
 "nbformat": 4,
 "nbformat_minor": 4
}
