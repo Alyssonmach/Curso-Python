{
 "cells": [
  {
   "cell_type": "markdown",
   "metadata": {},
   "source": [
    "# Tipo de Dados Booleanos"
   ]
  },
  {
   "cell_type": "markdown",
   "metadata": {},
   "source": [
    "- Álgebra Booleana, criada por **George Boole**;  \n",
    "- 2 constantes, verdadeiro ou falso;  \n",
    "> **True** --> Verdadeiro;  \n",
    "> **False** --> Falso;  \n",
    "> **OBS**: Sempre com iniciais maiúsculas;"
   ]
  },
  {
   "cell_type": "code",
   "execution_count": 1,
   "metadata": {},
   "outputs": [],
   "source": [
    "# atribuindo um valor booleano a variável\n",
    "ativo = False"
   ]
  },
  {
   "cell_type": "code",
   "execution_count": 2,
   "metadata": {},
   "outputs": [
    {
     "name": "stdout",
     "output_type": "stream",
     "text": [
      "True\n"
     ]
    }
   ],
   "source": [
    "# imprimindo a negação do valor armazenado em uma variável com tipos booleanos \n",
    "print(not ativo)"
   ]
  },
  {
   "cell_type": "code",
   "execution_count": 9,
   "metadata": {},
   "outputs": [
    {
     "name": "stdout",
     "output_type": "stream",
     "text": [
      "False\n",
      "True\n",
      "\n",
      "\n",
      "True\n",
      "True\n"
     ]
    }
   ],
   "source": [
    "# and = depende que duas variáveis seja verdadeira para ser 'True', caso contrário, 'False';\n",
    "# or = depende que pelo menos uma variável seja verdadeira para ser 'True', caso contrário, 'False';\n",
    "\n",
    "# atribuindo dados booleanos a variáveis\n",
    "logica1 = True\n",
    "logica2 = False\n",
    "logica3 = True\n",
    "\n",
    "# testando o uso do 'and' com dados booleanos\n",
    "print(logica1 and logica2)\n",
    "print(logica1 and logica3)\n",
    "\n",
    "# quebra de linha\n",
    "print('\\n')\n",
    "\n",
    "# testando o uso do 'or' com dados booleanos\n",
    "print(logica1 or logica2)\n",
    "print(logica1 or logica3)"
   ]
  },
  {
   "cell_type": "code",
   "execution_count": 10,
   "metadata": {},
   "outputs": [
    {
     "name": "stdout",
     "output_type": "stream",
     "text": [
      "False\n",
      "True\n",
      "True\n",
      "True\n",
      "False\n",
      "False\n"
     ]
    }
   ],
   "source": [
    "# atribuindo números inteiros a variáveis\n",
    "numero1 = 3\n",
    "numero2 = 4\n",
    "\n",
    "# usando operador de igualdade\n",
    "print(numero1 == numero2)\n",
    "\n",
    "# usando operador de desigualdade\n",
    "print(numero1 != numero2)\n",
    "\n",
    "# usando operador de menor que\n",
    "print(numero1 < numero2)\n",
    "\n",
    "# usando operador de menor e igual que\n",
    "print(numero1 <= numero2)\n",
    "\n",
    "# usando operador de maior que\n",
    "print(numero1 > numero2)\n",
    "\n",
    "# usando operador de maior e igual que\n",
    "print(numero1 >= numero2)"
   ]
  }
 ],
 "metadata": {
  "kernelspec": {
   "display_name": "Python 3",
   "language": "python",
   "name": "python3"
  },
  "language_info": {
   "codemirror_mode": {
    "name": "ipython",
    "version": 3
   },
   "file_extension": ".py",
   "mimetype": "text/x-python",
   "name": "python",
   "nbconvert_exporter": "python",
   "pygments_lexer": "ipython3",
   "version": "3.7.4"
  }
 },
 "nbformat": 4,
 "nbformat_minor": 4
}
