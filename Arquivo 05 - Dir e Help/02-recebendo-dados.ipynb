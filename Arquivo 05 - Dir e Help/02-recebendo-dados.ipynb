{
 "cells": [
  {
   "cell_type": "markdown",
   "metadata": {},
   "source": [
    "# Recebendo Dados do Usuário"
   ]
  },
  {
   "cell_type": "code",
   "execution_count": 1,
   "metadata": {},
   "outputs": [
    {
     "name": "stdout",
     "output_type": "stream",
     "text": [
      "Qual o seu nome?\n"
     ]
    },
    {
     "name": "stdin",
     "output_type": "stream",
     "text": [
      " Alysson Machado\n"
     ]
    }
   ],
   "source": [
    "# Saída de Dados\n",
    "print('Qual o seu nome?')\n",
    "# Entrada de Dados\n",
    "nome = input()"
   ]
  },
  {
   "cell_type": "code",
   "execution_count": 2,
   "metadata": {},
   "outputs": [
    {
     "name": "stdout",
     "output_type": "stream",
     "text": [
      "Seja bem vindo(a) Alysson Machado\n"
     ]
    }
   ],
   "source": [
    "# Imprimindo na saída de dados uma mensagem com a string \n",
    "# inserida acima\n",
    "print('Seja bem vindo(a) %s' % nome)"
   ]
  },
  {
   "cell_type": "code",
   "execution_count": 3,
   "metadata": {},
   "outputs": [
    {
     "name": "stdin",
     "output_type": "stream",
     "text": [
      "Qual o seu nome? Alysson Machado\n"
     ]
    }
   ],
   "source": [
    "# Entrada e saída de dados com o 'input'\n",
    "nome = str(input('Qual o seu nome?'))"
   ]
  },
  {
   "cell_type": "code",
   "execution_count": 5,
   "metadata": {},
   "outputs": [
    {
     "name": "stdout",
     "output_type": "stream",
     "text": [
      "Seja bem vindo Alysson Machado!\n"
     ]
    }
   ],
   "source": [
    "# saída de dados com o 'print'\n",
    "print('Seja bem vindo {}!'.format(nome))"
   ]
  },
  {
   "cell_type": "code",
   "execution_count": 6,
   "metadata": {},
   "outputs": [
    {
     "name": "stdin",
     "output_type": "stream",
     "text": [
      "Qual o seu nome?  Alysson Machado\n",
      "Qual a sua idade?  19\n"
     ]
    }
   ],
   "source": [
    "# entrada de dados para o nome do usuário com string\n",
    "nome = str(input('Qual o seu nome? '))\n",
    "# entrada de dados para a idade do usuário com inteiros\n",
    "idade = int(input('Qual a sua idade? '))"
   ]
  },
  {
   "cell_type": "code",
   "execution_count": 7,
   "metadata": {},
   "outputs": [
    {
     "name": "stdout",
     "output_type": "stream",
     "text": [
      "Seu nome é Alysson Machado e sua idade é 19 anos.\n"
     ]
    }
   ],
   "source": [
    "# imprimindo na saída de dados informações sobre o usuário\n",
    "print('Seu nome é {} e sua idade é {} anos.'.format(nome,idade))"
   ]
  },
  {
   "cell_type": "code",
   "execution_count": 9,
   "metadata": {},
   "outputs": [
    {
     "data": {
      "text/plain": [
       "'Alysson Machado de Oliveira Barbosa'"
      ]
     },
     "execution_count": 9,
     "metadata": {},
     "output_type": "execute_result"
    }
   ],
   "source": [
    "# testando os diferentes tipos de aspas usadas em string\n",
    "# concatenando string\n",
    "'Alysson ' + \"Machado \" + '''de ''' + \"\"\"Oliveira \"\"\" + 'Barbosa'"
   ]
  },
  {
   "cell_type": "code",
   "execution_count": null,
   "metadata": {},
   "outputs": [],
   "source": []
  }
 ],
 "metadata": {
  "kernelspec": {
   "display_name": "Python 3",
   "language": "python",
   "name": "python3"
  },
  "language_info": {
   "codemirror_mode": {
    "name": "ipython",
    "version": 3
   },
   "file_extension": ".py",
   "mimetype": "text/x-python",
   "name": "python",
   "nbconvert_exporter": "python",
   "pygments_lexer": "ipython3",
   "version": "3.7.4"
  }
 },
 "nbformat": 4,
 "nbformat_minor": 4
}
