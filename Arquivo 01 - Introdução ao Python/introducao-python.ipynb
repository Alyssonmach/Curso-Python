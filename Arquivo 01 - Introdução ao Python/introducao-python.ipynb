{
 "cells": [
  {
   "cell_type": "markdown",
   "metadata": {},
   "source": [
    "# Comandos Básicos do Python\n",
    "#### Vamos analisar as estruturas básicas da linguagem de programação Python. É pertinente saber que tal linguagem possui bastante uso atualmente e ela é uma das mais simples de usar. Além disso, graças a colaboratividade dos usuários, temos inúmeras pacotes prontos para uso, esses que nos possibilita executar tarefas complexas de forma simples na programação."
   ]
  },
  {
   "cell_type": "markdown",
   "metadata": {},
   "source": [
    "Vamos começar o nosso estudo em Python por uma definição que resume os ideais dessa linguagem de programação:"
   ]
  },
  {
   "cell_type": "markdown",
   "metadata": {},
   "source": [
    "> “**Python é uma linguagem de programação de alto nível, interpretada, de script, imperativa, orientada a objetos, funcional, de tipagem dinâmica e forte. Foi lançada por Guido van Rossum em 1991. Atualmente possui um modelo de desenvolvimento comunitário, aberto e gerenciado pela organização sem fins lucrativos Python Software Foundation**”."
   ]
  },
  {
   "cell_type": "markdown",
   "metadata": {},
   "source": [
    "#### Dissecando a Definição"
   ]
  },
  {
   "cell_type": "markdown",
   "metadata": {},
   "source": [
    "Acima foi copiado um pequeno trecho da Wikipédia que fala sobre a linguagem de programação Python. Nele, podemos aprender diversas características da linguagem em si, tais como:"
   ]
  },
  {
   "cell_type": "markdown",
   "metadata": {},
   "source": [
    "- **Linguagem de Programação de Alto Nível**: Python é uma linguagem que sua escrita é bem próxima da linguagem humana usando como idioma principal o inglês, dado que é a linguagem nativa de seus país onde a mesma foi originada. Dessa forma, podemos nos comunicar com a máquina através de um forte e intuitivo interpretador."
   ]
  },
  {
   "cell_type": "markdown",
   "metadata": {},
   "source": [
    "- **Linguagem Interpretada**: o código fonte nessa linguagem é executado por um programa de computador chamado interpretador, que em seguida é executado pelo sistema operacional ou processador. Método esse que difere das linguagens que são compiladas para a linguagem de máquina, tais como a linguagem de programação C e suas derivadas."
   ]
  },
  {
   "cell_type": "markdown",
   "metadata": {},
   "source": [
    "- **Linguagem de Script**: é basicamente o ato de desenvolver um algoritmo para automatizar a execução de tarefas que poderiam alternativamente ser executadas uma por vez por um operador humano."
   ]
  },
  {
   "cell_type": "markdown",
   "metadata": {},
   "source": [
    "- **Linguagem Imperativa**: Trata do ato de usar ações para dar ordens, ou seja, através de comandos podemos dar ordens para serem executadas determinadas ações pelo programa. Desse modo, surgem os laços de repetição, estruturas condicionais, atribuição de valor à variáveis e controle de estado para implementar melhor essa ideia."
   ]
  },
  {
   "cell_type": "markdown",
   "metadata": {},
   "source": [
    "- **Linguagem Orientada a Objetos**: Trata da ideia de se ter uma linguagem de programações voltada ao conceito de “objetos”, usando para isso atributos (dados na forma de campo) e métodos (procedimentos de execução)."
   ]
  },
  {
   "cell_type": "markdown",
   "metadata": {},
   "source": [
    "- **Linguagem Funcional**: Trata a ideia de possuir uma linguagem com avaliação de funções para executar determinadas ações. Especificamente o Python, possui inúmeras bibliotecas repletas de funções para serem importadas e usadas, dando ênfase a inúmeros campos de estudo na qual a programação se aplica."
   ]
  },
  {
   "cell_type": "markdown",
   "metadata": {},
   "source": [
    "- **Linguagem de Tipagem Dinâmica**: sendo uma característica positiva para o Python, esse tipo de tipagem permite o uso de variáveis que não exigem declarações de tipos de dados, pois são capazes de escolher que tipo utilizar dinamicamente para cada variável, podendo alterá-lo durante a compilação ou a execução do programa."
   ]
  },
  {
   "cell_type": "markdown",
   "metadata": {},
   "source": [
    "- **Linguagem forte**: Python é uma linguagem de programação multiplataforma e atualmente está presente em diversos sistemas operacionais, seja eles embarcados ou não. Temos a Microsoft usando nos consoles Xbox, de mesmo modo a Sony nos consoles PlayStation, a empresa Apple a utiliza nos seus sistema operacionais IOS ou macOS, está presente em inúmeras Smart TVs, presente em operações para realizar automações em residências e indústrias e diversas outras plataformas."
   ]
  },
  {
   "cell_type": "markdown",
   "metadata": {},
   "source": [
    "- **Além disso**: o recurso de ponto e vírgula para paradas de comandos foi substituído pelo recuo utilizado no programa, juntamente com os dois pontos (:) usando para delimitar sub comandos de operações maiores."
   ]
  }
 ],
 "metadata": {
  "kernelspec": {
   "display_name": "Python 3",
   "language": "python",
   "name": "python3"
  },
  "language_info": {
   "codemirror_mode": {
    "name": "ipython",
    "version": 3
   },
   "file_extension": ".py",
   "mimetype": "text/x-python",
   "name": "python",
   "nbconvert_exporter": "python",
   "pygments_lexer": "ipython3",
   "version": "3.7.4"
  }
 },
 "nbformat": 4,
 "nbformat_minor": 4
}
